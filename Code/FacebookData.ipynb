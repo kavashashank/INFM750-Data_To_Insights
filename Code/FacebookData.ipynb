{
 "cells": [
  {
   "cell_type": "code",
   "execution_count": 1,
   "metadata": {
    "collapsed": true
   },
   "outputs": [],
   "source": [
    "import facebook\n",
    "import urllib3\n",
    "import requests\n",
    "import csv"
   ]
  },
  {
   "cell_type": "code",
   "execution_count": 33,
   "metadata": {},
   "outputs": [],
   "source": [
    "token = 'EAACEdEose0cBAF8OwNPFDnxSWK6Y9JyIBfpCjFwD7hyhSctNUqjHKxm8PRpUh7HRlc7WNfx8YAHu41XU1jYZBJ2HXmhWaVJaoyu7bcEsqqBjXhHt2yFZBIOmhikhAKL3ltlbsQ7bVduFyE0EdZCiC0ETcGNnFo8QECfW46tiI9wbp5cdGhnujL0jiaacv4ZD'\n",
    "graph = facebook.GraphAPI(access_token=token, version = '2.7')\n",
    "fieldset = \"were_here_count,can_checkin,rating_count,fan_count,overall_star_rating,talking_about_count,checkins,name,category,location,new_like_count\";\n",
    "\n",
    "dataList = []\n",
    "idList = ['72228529722']\n",
    "for i in range(len(idList)):\n",
    "    try:\n",
    "        post = {}\n",
    "        post = graph.get_object(id=idList[i], fields=fieldset)\n",
    "        dataList.append(post)\n",
    "    except Exception as e:\n",
    "        post['Exception'] = e"
   ]
  },
  {
   "cell_type": "code",
   "execution_count": 34,
   "metadata": {},
   "outputs": [],
   "source": [
    "## Write List of objects to CSV\n",
    "\n",
    "# Open a file for writing\n",
    "nps_data = open('C:/Users/Goofy/Desktop/Museum_data_details.csv', 'a',newline='',encoding=\"utf-8\")\n",
    "\n",
    "# Open writer\n",
    "csvwriter = csv.writer(nps_data)\n",
    "\n",
    "count = 0\n",
    "\n",
    "for np in dataList:\n",
    "      if count == 0:\n",
    "             header = np.keys()\n",
    "             csvwriter.writerow(header)\n",
    "             count += 1\n",
    "      csvwriter.writerow(np.values())\n",
    "\n",
    "nps_data.close()"
   ]
  }
 ],
 "metadata": {
  "kernelspec": {
   "display_name": "Python 3",
   "language": "python",
   "name": "python3"
  },
  "language_info": {
   "codemirror_mode": {
    "name": "ipython",
    "version": 3
   },
   "file_extension": ".py",
   "mimetype": "text/x-python",
   "name": "python",
   "nbconvert_exporter": "python",
   "pygments_lexer": "ipython3",
   "version": "3.6.2"
  }
 },
 "nbformat": 4,
 "nbformat_minor": 2
}
