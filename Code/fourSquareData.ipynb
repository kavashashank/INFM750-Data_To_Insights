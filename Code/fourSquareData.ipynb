{
 "cells": [
  {
   "cell_type": "code",
   "execution_count": 1,
   "metadata": {
    "collapsed": false
   },
   "outputs": [],
   "source": [
    "import foursquare\n",
    "import pandas as pd"
   ]
  },
  {
   "cell_type": "code",
   "execution_count": 2,
   "metadata": {
    "collapsed": true
   },
   "outputs": [],
   "source": [
    "FOURSQUARE_CONSUMER_KEY='K4H1GQA3BB34CSFDSX4RW4ELA4AMCDKHVFBB5XZM4VET50DE'\n",
    "FOURSQUARE_CONSUMER_SECRET='SWIJYOET4ROH30ZV2Z32ITGKRIZB4US3USZSM1FWDB03XYHE'\n",
    "\n",
    "# Construct the client object\n",
    "client = foursquare.Foursquare(client_id=FOURSQUARE_CONSUMER_KEY, client_secret=FOURSQUARE_CONSUMER_SECRET)"
   ]
  },
  {
   "cell_type": "code",
   "execution_count": 3,
   "metadata": {
    "collapsed": false
   },
   "outputs": [],
   "source": [
    "#client.venues.search(params={'query': 'coffee'})\n",
    "#fs.venues.search(ll=\"37.77493,-122.419416\")\n",
    "#venue_det=client.venues.search(params={'near': \"Chicago\", 'radius' : 100000, 'query': 'park', 'limit':1})\n",
    "#client.venues.search(params={'query': 'coffee'})"
   ]
  },
  {
   "cell_type": "code",
   "execution_count": 120,
   "metadata": {
    "collapsed": true
   },
   "outputs": [],
   "source": [
    "#National Parks\n",
    "venueID_lst=['4bd83ad6e914a5937ab052fa','4bb77963cf2fc9b61d3d9e02','4e0d122aae603a50b535bb32','4b78609ef964a520a1c92ee3','4bdaca732a3a0f47a3fcabb6','4c02ece3f423a593258ccf16','4be2f32d2ff376b0e8404fed','4ba42159f964a5208d8438e3','4dbad6fea86e0e98a1ba7653','4c507288885c1b8d7a504939','4c48d39320ab1b8d3d7ff215','4ce98d149f776ea83f566422','4c44e9c9dcd61b8dc80c7c56','4bd46ec4cfa7b713890324da','4d1a73a91683a143ce977451','4c019a49b58376b0c072443c','4d1e974d6e8c370446bbe89f','4b991f26f964a520c66235e3','4e78f164cc3f8eb9a06b9119','4c47c94bc047be9a50df3179','4c1955aa6a21c9b6766aca97','4cf1603fd29b2d438fe0f0bb','4bcf161129d4b7131e84a9dc','4e1670417d8b69590f42dcd3','4c41c82faf052d7fccd27d79','4bae1d54f964a520f5853be3','4e091fa3091afe7702006485','4b69ea16f964a520d8bb2be3','4be894da88ed2d7ff911cc1d','4b4e4230f964a52023e726e3','545a791c498e1bf406edf3e4','4af74ba5f964a5201a0822e3','51d0a71e498e59e825bf3aaf','4c157292b7b9c9289104ad37','4da5f33393a01f42fad18fce','545a7aeb498e2b0baa4b909d','4ebc760f02d5e32b7b738c28','4ebc760f02d5e32b7b738c28','4c72ecde376da09334bda7c6','4b3cef8af964a520f98925e3','4afef1a1f964a520f33122e3','4e78fa01cc3f8eb9a06c91c0','4c169944955976b04ecca4f6','4b7aff59f964a520fe4a2fe3','4b9aa094f964a520acc735e3','4c0b130effb8c9b654cc6c61','4c255097db519521062a2c3a','4b8ad9d6f964a5203f8532e3','4b7716e5f964a5203a7c2ee3','4e44348bd4c02cf15f5f6105','4b9808a2f964a520b12735e3','4c29f05be19720a16234fa58','4c864c9cd4e23704f4c98988','4e1c5ac218a81211e990ee44','4c07a9d4a0129c74f18ed2c9','51ec156c498ede532237ea97','4b69c014f964a520c9b12be3','4ba3c8abf964a520e05e38e3','50242547e4b0783685b6793b']"
   ]
  },
  {
   "cell_type": "code",
   "execution_count": 9,
   "metadata": {
    "collapsed": true
   },
   "outputs": [],
   "source": [
    "#Museums\n",
    "venueID_lst=['4f8820aee4b01f95a1a979af','4bceecdbcc8cd13a7102c5cf','4c2b0135197e9521de9b628d','4b54bf22f964a52032ca27e3','4c168f29a81db713e5af85e7','4c557d1506901b8d2d1a8f4d','4bc76db0af07a593de2a7f2d','4ac518d2f964a5203ca720e3','4b0586c4f964a520616d22e3','4ac518cff964a5205ba620e3','4ade0e12f964a520a36e21e3','4bccda03b6c49c747b849491','4eb7ab839adfc68713553b4a','4ac518cdf964a520e6a520e3','4baf54dbf964a52071f83be3','4b459ae5f964a520740e26e3','4ac518d2f964a52047a720e3','4b4748b2f964a5201d2e26e3','4b90d222f964a5207d9833e3','4ac518cdf964a520e8a520e3','4b50c1b1f964a520243127e3','4c0b961e6071a593fb6de132','4b27d38df964a520b98a24e3','4bdd821e4ffaa593d98e6ff7','4bdeb9b2ffdec928c15ae9a1','4ac518d3f964a52089a720e3','4bb09cf1f964a520764f3ce3','524c388cbce68801f757748f','4b224487f964a520ec4424e3','4bc5a0c06c26b7137a7cebf3','4d83d16bd1854eb90b208d60','4b0ecc4df964a5202d5b23e3','4ac518d3f964a52081a720e3','4e7dca4f9adf36abef7217f2','4c19f69ed4d9c9289fb3f129','51407de5e4b0b6e54e01d82e','4b7fee5cf964a520214530e3','4ade0e15f964a520b56e21e3','4ade0e12f964a520a16e21e3','4ac518d3f964a5205aa720e3','4e1ed2012271ad66e4a2a3b2','4c67ab867abde21e52406768','4bd5a1c96798ef3b9da1638d','4d884d23e60c2c0f24d7b13a','4c494e5efbafc9282274bdda','4bd2ddb677b29c7470748f82','4e357e3caeb7f67fbd315f94','4ac518d2f964a52045a720e3','4ac518d4f964a520b7a720e3','4f64a0d2e4b0ea77cd9a742b','4ac518d3f964a52078a720e3','4bc9ddbbcc8cd13abd4bbccf','4bc8688b92b376b07b4c513a','4bc8731292b376b02d61513a','4f23cc1fe4b0fd1837231f03','4dfc7609fa76c83b6e7cba35','4c249181136d20a16ef8e161','4b56e4aef964a5205a1e28e3','4bceeed3cc8cd13ae705c5cf','4b55f2def964a52031f827e3','4c1613d8a9c220a1a6fe599d','4b69c861f964a520ecb32be3','4c483e7576d72d7f9fab3f4d','4ac518cff964a52047a620e3','4e985468e5fab92b21c37b07','4b780012f964a52095b12ee3','4ac518cdf964a520eca520e3','4d88b6eb76e1236a6df6f542','4f5335ff121db0d731b2607d','4ade0e12f964a520a46e21e3','4ade0e11f964a5209d6e21e3','4ac518d2f964a52040a720e3','4baf54dbf964a52071f83be3','51f5312b498ec21e015e01b7','5138d0c6e4b03cf69cbc4441','4bcecb59fb84c9b6be4d243e','4babf362f964a5206ad83ae3','4c2f2b34ac0ab713fbb51b1e','4d4ad80448a06dcb4c6d7fa2','4ac51183f964a52049a020e3','4b16b636f964a52066bc23e3','4ac518d3f964a52076a720e3','4c17742ef693b7139c135f54','4bc87c1615a7ef3b07237bda','4f797f3fe4b06336496cc7b7','4bae00c4f964a520db793be3','4be69ded2468c92835880143','4ac518d2f964a5203fa720e3','4dbec33b4df044e525198a0b','4b05883bf964a520a9b922e3','4b44dea0f964a520d0fe25e3','4ac518cdf964a520e8a520e3','4c86316c2f1c236ac5b45a43','4b09a81df964a5201c1b23e3','5101265b8302126a98a8d171','504879b0e889eacd00088f47','4b6d7961f964a520db762ce3','4ac518d3f964a52067a720e3','4b05882df964a520d4b622e3','4ac518d0f964a52090a620e3','4bbb49d0cf2fc9b60262a202','4bd439c7046076b0517f7771','4ac518cdf964a520e9a520e3','4ac518d3f964a52057a720e3','4ac518d3f964a5204fa720e3','4c79134abd346dcbde0bf4ef','4d4d70a8f8292d43ba2a6dd6','4bc5e65fd35d9c74fec3e13a','4ac518d3f964a52053a720e3','4ad6409bf964a520120621e3','4ae2d9f8f964a5208d8f21e3','4c488065972c0f47e6372721','52bd8e4d498e0c0d84632746','4b681fb8f964a52028682be3','4ac518d3f964a52071a720e3','4e6bbb7d8130e13f5def0028','4dc6b175b3ad20ab9e4142b7','4c0bfa7b009a0f4772edebbf','4c0bf1fda1b32d7fafc69bf0','4bce1adcef10952115818386','4bcb033c511f9521f6a0b0c7','4bb5bbee941ad13ae37a1ee3','4b55b61af964a520cfec27e3','4b55b5d6f964a520c6ec27e3','4b459d76f964a520930e26e3','4b78039df964a5201eb22ee3','4b90f481f964a520e79b33e3','4ccaa6b19b934688b5b24f41','4b058846f964a520c9bb22e3','4b4ed8d7f964a52049f626e3','5038db79e4b0b35a2527750a','5038db79e4b0b35a2527750a','4dc124527d8bf48713bb030a','4d4ac1c1f53c8cfac0b32647','4cfbb370ee9cb60c588c91ad','4b94c648f964a520f28234e3','4c1dfbc6eac020a1ab0249c2','4d48007adcdba143606aebb1','4b05882df964a520cbb622e3','4b05882df964a520d5b622e3','4ade0e14f964a520ac6e21e3','4dbe8ca91e72b351cae2d992','4b058847f964a520e8bb22e3']"
   ]
  },
  {
   "cell_type": "code",
   "execution_count": 10,
   "metadata": {
    "collapsed": false
   },
   "outputs": [],
   "source": [
    "Fsquare_df= pd.DataFrame(columns=['Name','FS_id','Rating','RatingCount','LikesCount','PhotosCount','TipsCount','CheckinsCount','VisitsCounts','UsersCounts'])\n",
    "venue_name=[]\n",
    "venue_id=[]\n",
    "venue_rating=[]\n",
    "venue_rating_cnt=[]\n",
    "venue_likes_cnt=[]\n",
    "venue_photos_cnt=[]\n",
    "venue_tip_cnt=[]\n",
    "venue_checkin_cnt=[]\n",
    "venue_visit_cnt=[]\n",
    "venue_users_cnt=[]"
   ]
  },
  {
   "cell_type": "code",
   "execution_count": 11,
   "metadata": {
    "collapsed": false
   },
   "outputs": [],
   "source": [
    "for venueID in venueID_lst:\n",
    "    venue_det=client.venues(venueID)\n",
    "\n",
    "    if venue_det[\"venue\"][\"name\"] is None:\n",
    "        venue_name.append('Null')\n",
    "    else:\n",
    "        venue_name.append(venue_det[\"venue\"][\"name\"])\n",
    "\n",
    "    if venue_det[\"venue\"][\"name\"] is None:\n",
    "        venue_id.append('Null')\n",
    "    else:\n",
    "        venue_id.append(venue_det[\"venue\"][\"id\"])\n",
    "\n",
    "    if \"rating\" in venue_det[\"venue\"]:   \n",
    "        if venue_det[\"venue\"][\"rating\"] is None:\n",
    "            venue_rating.append('Null')\n",
    "        else:\n",
    "            venue_rating.append(venue_det[\"venue\"][\"rating\"])\n",
    "    else:\n",
    "        venue_rating.append('Null')\n",
    "    \n",
    "    if \"ratingSignals\" in venue_det[\"venue\"]:\n",
    "        if venue_det[\"venue\"][\"ratingSignals\"] is None:\n",
    "            venue_rating_cnt.append('Null')\n",
    "        else:\n",
    "            venue_rating_cnt.append(venue_det[\"venue\"][\"ratingSignals\"])\n",
    "    else:\n",
    "        venue_rating_cnt.append('Null')\n",
    "\n",
    "    if venue_det[\"venue\"][\"likes\"][\"count\"] is None:\n",
    "        venue_likes_cnt.append('Null')\n",
    "    else:\n",
    "        venue_likes_cnt.append(venue_det[\"venue\"][\"likes\"][\"count\"])\n",
    "\n",
    "    if venue_det[\"venue\"][\"photos\"][\"count\"] is None:\n",
    "        venue_photos_cnt.append('Null')\n",
    "    else:\n",
    "        venue_photos_cnt.append(venue_det[\"venue\"][\"photos\"][\"count\"])\n",
    "\n",
    "    if venue_det[\"venue\"][\"stats\"][\"tipCount\"] is None:\n",
    "        venue_tip_cnt.append('Null')\n",
    "    else:\n",
    "        venue_tip_cnt.append(venue_det[\"venue\"][\"stats\"][\"tipCount\"])\n",
    "\n",
    "    if venue_det[\"venue\"][\"stats\"][\"checkinsCount\"] is None:\n",
    "        venue_checkin_cnt.append('Null')\n",
    "    else:\n",
    "        venue_checkin_cnt.append(venue_det[\"venue\"][\"stats\"][\"checkinsCount\"])\n",
    "\n",
    "    if venue_det[\"venue\"][\"stats\"][\"visitsCount\"] is None:\n",
    "        venue_visit_cnt.append('Null')\n",
    "    else:\n",
    "        venue_visit_cnt.append(venue_det[\"venue\"][\"stats\"][\"visitsCount\"])\n",
    "\n",
    "    if venue_det[\"venue\"][\"stats\"][\"usersCount\"] is None:\n",
    "        venue_users_cnt.append('Null')\n",
    "    else:\n",
    "        venue_users_cnt.append(venue_det[\"venue\"][\"stats\"][\"usersCount\"])"
   ]
  },
  {
   "cell_type": "code",
   "execution_count": 12,
   "metadata": {
    "collapsed": false
   },
   "outputs": [],
   "source": [
    "Fsquare_df['Name']=venue_name\n",
    "Fsquare_df['FS_id']=venue_id\n",
    "Fsquare_df['Rating']=venue_rating\n",
    "Fsquare_df['RatingCount']=venue_rating_cnt\n",
    "Fsquare_df['LikesCount']=venue_likes_cnt\n",
    "Fsquare_df['PhotosCount']=venue_photos_cnt\n",
    "Fsquare_df['TipsCount']=venue_tip_cnt\n",
    "Fsquare_df['CheckinsCount']=venue_checkin_cnt\n",
    "Fsquare_df['VisitsCounts']=venue_visit_cnt\n",
    "Fsquare_df['UsersCounts']=venue_users_cnt"
   ]
  },
  {
   "cell_type": "code",
   "execution_count": 13,
   "metadata": {
    "collapsed": false
   },
   "outputs": [],
   "source": [
    "Fsquare_df.to_csv('Foursquare_MuseumsUK.csv', encoding='utf-8');"
   ]
  }
 ],
 "metadata": {
  "kernelspec": {
   "display_name": "Python 2",
   "language": "python",
   "name": "python2"
  },
  "language_info": {
   "codemirror_mode": {
    "name": "ipython",
    "version": 2
   },
   "file_extension": ".py",
   "mimetype": "text/x-python",
   "name": "python",
   "nbconvert_exporter": "python",
   "pygments_lexer": "ipython2",
   "version": "2.7.13"
  }
 },
 "nbformat": 4,
 "nbformat_minor": 2
}
