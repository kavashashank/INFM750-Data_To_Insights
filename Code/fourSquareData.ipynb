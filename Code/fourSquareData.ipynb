{
 "cells": [
  {
   "cell_type": "code",
   "execution_count": 1,
   "metadata": {
    "collapsed": false
   },
   "outputs": [],
   "source": [
    "import foursquare\n",
    "import pandas as pd"
   ]
  },
  {
   "cell_type": "code",
   "execution_count": 2,
   "metadata": {
    "collapsed": true
   },
   "outputs": [],
   "source": [
    "FOURSQUARE_CONSUMER_KEY='K4H1GQA3BB34CSFDSX4RW4ELA4AMCDKHVFBB5XZM4VET50DE'\n",
    "FOURSQUARE_CONSUMER_SECRET='SWIJYOET4ROH30ZV2Z32ITGKRIZB4US3USZSM1FWDB03XYHE'\n",
    "# Construct the client object\n",
    "client = foursquare.Foursquare(client_id=FOURSQUARE_CONSUMER_KEY, client_secret=FOURSQUARE_CONSUMER_SECRET)"
   ]
  },
  {
   "cell_type": "code",
   "execution_count": 3,
   "metadata": {
    "collapsed": false
   },
   "outputs": [],
   "source": [
    "#client.venues.search(params={'query': 'coffee'})\n",
    "#fs.venues.search(ll=\"37.77493,-122.419416\")\n",
    "#venue_det=client.venues.search(params={'near': \"Chicago\", 'radius' : 100000, 'query': 'park', 'limit':1})\n",
    "#client.venues.search(params={'query': 'coffee'})"
   ]
  },
  {
   "cell_type": "code",
   "execution_count": 120,
   "metadata": {
    "collapsed": true
   },
   "outputs": [],
   "source": [
    "venueID_lst=['4bd83ad6e914a5937ab052fa','4bb77963cf2fc9b61d3d9e02','4e0d122aae603a50b535bb32','4b78609ef964a520a1c92ee3','4bdaca732a3a0f47a3fcabb6','4c02ece3f423a593258ccf16','4be2f32d2ff376b0e8404fed','4ba42159f964a5208d8438e3','4dbad6fea86e0e98a1ba7653','4c507288885c1b8d7a504939','4c48d39320ab1b8d3d7ff215','4ce98d149f776ea83f566422','4c44e9c9dcd61b8dc80c7c56','4bd46ec4cfa7b713890324da','4d1a73a91683a143ce977451','4c019a49b58376b0c072443c','4d1e974d6e8c370446bbe89f','4b991f26f964a520c66235e3','4e78f164cc3f8eb9a06b9119','4c47c94bc047be9a50df3179','4c1955aa6a21c9b6766aca97','4cf1603fd29b2d438fe0f0bb','4bcf161129d4b7131e84a9dc','4e1670417d8b69590f42dcd3','4c41c82faf052d7fccd27d79','4bae1d54f964a520f5853be3','4e091fa3091afe7702006485','4b69ea16f964a520d8bb2be3','4be894da88ed2d7ff911cc1d','4b4e4230f964a52023e726e3','545a791c498e1bf406edf3e4','4af74ba5f964a5201a0822e3','51d0a71e498e59e825bf3aaf','4c157292b7b9c9289104ad37','4da5f33393a01f42fad18fce','545a7aeb498e2b0baa4b909d','4ebc760f02d5e32b7b738c28','4ebc760f02d5e32b7b738c28','4c72ecde376da09334bda7c6','4b3cef8af964a520f98925e3','4afef1a1f964a520f33122e3','4e78fa01cc3f8eb9a06c91c0','4c169944955976b04ecca4f6','4b7aff59f964a520fe4a2fe3','4b9aa094f964a520acc735e3','4c0b130effb8c9b654cc6c61','4c255097db519521062a2c3a','4b8ad9d6f964a5203f8532e3','4b7716e5f964a5203a7c2ee3','4e44348bd4c02cf15f5f6105','4b9808a2f964a520b12735e3','4c29f05be19720a16234fa58','4c864c9cd4e23704f4c98988','4e1c5ac218a81211e990ee44','4c07a9d4a0129c74f18ed2c9','51ec156c498ede532237ea97','4b69c014f964a520c9b12be3','4ba3c8abf964a520e05e38e3','50242547e4b0783685b6793b']"
   ]
  },
  {
   "cell_type": "code",
   "execution_count": 10,
   "metadata": {
    "collapsed": true
   },
   "outputs": [],
   "source": [
    "venueID_lst=['4e78f620cc3f8eb9a06c1d9a']"
   ]
  },
  {
   "cell_type": "code",
   "execution_count": 11,
   "metadata": {
    "collapsed": false
   },
   "outputs": [],
   "source": [
    "Fsquare_df= pd.DataFrame(columns=['Name','FS_id','Rating','RatingCount','LikesCount','PhotosCount','TipsCount','CheckinsCount','VisitsCounts','UsersCounts'])\n",
    "venue_name=[]\n",
    "venue_id=[]\n",
    "venue_rating=[]\n",
    "venue_rating_cnt=[]\n",
    "venue_likes_cnt=[]\n",
    "venue_photos_cnt=[]\n",
    "venue_tip_cnt=[]\n",
    "venue_checkin_cnt=[]\n",
    "venue_visit_cnt=[]\n",
    "venue_users_cnt=[]"
   ]
  },
  {
   "cell_type": "code",
   "execution_count": 12,
   "metadata": {
    "collapsed": false
   },
   "outputs": [],
   "source": [
    "for venueID in venueID_lst:\n",
    "    venue_det=client.venues(venueID)\n",
    "\n",
    "    if venue_det[\"venue\"][\"name\"] is None:\n",
    "        venue_name.append('Null')\n",
    "    else:\n",
    "        venue_name.append(venue_det[\"venue\"][\"name\"])\n",
    "\n",
    "    if venue_det[\"venue\"][\"name\"] is None:\n",
    "        venue_id.append('Null')\n",
    "    else:\n",
    "        venue_id.append(venue_det[\"venue\"][\"id\"])\n",
    "\n",
    "    if \"rating\" in venue_det[\"venue\"]:   \n",
    "        if venue_det[\"venue\"][\"rating\"] is None:\n",
    "            venue_rating.append('Null')\n",
    "        else:\n",
    "            venue_rating.append(venue_det[\"venue\"][\"rating\"])\n",
    "    else:\n",
    "        venue_rating.append('Null')\n",
    "    \n",
    "    if \"ratingSignals\" in venue_det[\"venue\"]:\n",
    "        if venue_det[\"venue\"][\"ratingSignals\"] is None:\n",
    "            venue_rating_cnt.append('Null')\n",
    "        else:\n",
    "            venue_rating_cnt.append(venue_det[\"venue\"][\"ratingSignals\"])\n",
    "    else:\n",
    "        venue_rating_cnt.append('Null')\n",
    "\n",
    "    if venue_det[\"venue\"][\"likes\"][\"count\"] is None:\n",
    "        venue_likes_cnt.append('Null')\n",
    "    else:\n",
    "        venue_likes_cnt.append(venue_det[\"venue\"][\"likes\"][\"count\"])\n",
    "\n",
    "    if venue_det[\"venue\"][\"photos\"][\"count\"] is None:\n",
    "        venue_photos_cnt.append('Null')\n",
    "    else:\n",
    "        venue_photos_cnt.append(venue_det[\"venue\"][\"photos\"][\"count\"])\n",
    "\n",
    "    if venue_det[\"venue\"][\"stats\"][\"tipCount\"] is None:\n",
    "        venue_tip_cnt.append('Null')\n",
    "    else:\n",
    "        venue_tip_cnt.append(venue_det[\"venue\"][\"stats\"][\"tipCount\"])\n",
    "\n",
    "    if venue_det[\"venue\"][\"stats\"][\"checkinsCount\"] is None:\n",
    "        venue_checkin_cnt.append('Null')\n",
    "    else:\n",
    "        venue_checkin_cnt.append(venue_det[\"venue\"][\"stats\"][\"checkinsCount\"])\n",
    "\n",
    "    if venue_det[\"venue\"][\"stats\"][\"visitsCount\"] is None:\n",
    "        venue_visit_cnt.append('Null')\n",
    "    else:\n",
    "        venue_visit_cnt.append(venue_det[\"venue\"][\"stats\"][\"visitsCount\"])\n",
    "\n",
    "    if venue_det[\"venue\"][\"stats\"][\"usersCount\"] is None:\n",
    "        venue_users_cnt.append('Null')\n",
    "    else:\n",
    "        venue_users_cnt.append(venue_det[\"venue\"][\"stats\"][\"usersCount\"])"
   ]
  },
  {
   "cell_type": "code",
   "execution_count": 13,
   "metadata": {
    "collapsed": false
   },
   "outputs": [],
   "source": [
    "Fsquare_df['Name']=venue_name\n",
    "Fsquare_df['FS_id']=venue_id\n",
    "Fsquare_df['Rating']=venue_rating\n",
    "Fsquare_df['RatingCount']=venue_rating_cnt\n",
    "Fsquare_df['LikesCount']=venue_likes_cnt\n",
    "Fsquare_df['PhotosCount']=venue_photos_cnt\n",
    "Fsquare_df['TipsCount']=venue_tip_cnt\n",
    "Fsquare_df['CheckinsCount']=venue_checkin_cnt\n",
    "Fsquare_df['VisitsCounts']=venue_visit_cnt\n",
    "Fsquare_df['UsersCounts']=venue_users_cnt"
   ]
  },
  {
   "cell_type": "code",
   "execution_count": null,
   "metadata": {
    "collapsed": true
   },
   "outputs": [],
   "source": []
  },
  {
   "cell_type": "code",
   "execution_count": 14,
   "metadata": {
    "collapsed": false
   },
   "outputs": [],
   "source": [
    "Fsquare_df.to_csv('Foursquare_NationalParks_LakeClark.csv', encoding='utf-8');"
   ]
  }
 ],
 "metadata": {
  "kernelspec": {
   "display_name": "Python 2",
   "language": "python",
   "name": "python2"
  },
  "language_info": {
   "codemirror_mode": {
    "name": "ipython",
    "version": 2
   },
   "file_extension": ".py",
   "mimetype": "text/x-python",
   "name": "python",
   "nbconvert_exporter": "python",
   "pygments_lexer": "ipython2",
   "version": "2.7.13"
  }
 },
 "nbformat": 4,
 "nbformat_minor": 2
}
