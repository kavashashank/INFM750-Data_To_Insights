{
 "cells": [
  {
   "cell_type": "code",
   "execution_count": 2,
   "metadata": {
    "collapsed": true
   },
   "outputs": [],
   "source": [
    "from __future__ import print_function\n",
    "\n",
    "import os\n",
    "import subprocess\n",
    "\n",
    "import pandas as pd\n",
    "import numpy as np\n",
    "from sklearn.metrics import accuracy_score\n",
    "from sklearn.tree import DecisionTreeClassifier, export_graphviz"
   ]
  },
  {
   "cell_type": "code",
   "execution_count": 3,
   "metadata": {
    "collapsed": true
   },
   "outputs": [],
   "source": [
    "def get_data():\n",
    "    if os.path.exists(\"C:/Users/kavas/Desktop/MyOwnDocs/Courses/Sem3/INFM 750 - Data to Insights/Data/DataPoints.csv\"):\n",
    "        print(\"Dataset found\")\n",
    "        df = pd.read_csv(\"C:/Users/kavas/Desktop/MyOwnDocs/Courses/Sem3/INFM 750 - Data to Insights/Data/DataPoints.csv\")\n",
    "    else:\n",
    "        print(\"Dataset not found\")\n",
    "        \n",
    "    return df"
   ]
  },
  {
   "cell_type": "code",
   "execution_count": 4,
   "metadata": {
    "collapsed": false
   },
   "outputs": [
    {
     "name": "stdout",
     "output_type": "stream",
     "text": [
      "Dataset found\n"
     ]
    }
   ],
   "source": [
    "pop_df = get_data()"
   ]
  },
  {
   "cell_type": "code",
   "execution_count": 5,
   "metadata": {
    "collapsed": false
   },
   "outputs": [
    {
     "name": "stdout",
     "output_type": "stream",
     "text": [
      "features:\n",
      "['fb_fan_count', 'fb_talking_about_count', 'fb_checkins', 'fs_rating', 'fs_ratingCount', 'fs_likesCount', 'fs_photosCount', 'fs_tipsCount', 'fs_checkinsCount', 'fs_visitsCounts', 'fs_usersCounts']\n"
     ]
    }
   ],
   "source": [
    "features = list(pop_df.columns[1:12])\n",
    "print(\"features:\", features, sep=\"\\n\")"
   ]
  },
  {
   "cell_type": "code",
   "execution_count": 6,
   "metadata": {
    "collapsed": false
   },
   "outputs": [
    {
     "data": {
      "text/html": [
       "<div>\n",
       "<table border=\"1\" class=\"dataframe\">\n",
       "  <thead>\n",
       "    <tr style=\"text-align: right;\">\n",
       "      <th></th>\n",
       "      <th>name</th>\n",
       "      <th>fb_fan_count</th>\n",
       "      <th>fb_talking_about_count</th>\n",
       "      <th>fb_checkins</th>\n",
       "      <th>fs_rating</th>\n",
       "      <th>fs_ratingCount</th>\n",
       "      <th>fs_likesCount</th>\n",
       "      <th>fs_photosCount</th>\n",
       "      <th>fs_tipsCount</th>\n",
       "      <th>fs_checkinsCount</th>\n",
       "      <th>fs_visitsCounts</th>\n",
       "      <th>fs_usersCounts</th>\n",
       "      <th>AverageVisitors</th>\n",
       "      <th>NormalizedAnnualVisCnt</th>\n",
       "      <th>Popular</th>\n",
       "    </tr>\n",
       "  </thead>\n",
       "  <tbody>\n",
       "    <tr>\n",
       "      <th>0</th>\n",
       "      <td>Acadia National Park</td>\n",
       "      <td>11437</td>\n",
       "      <td>1835</td>\n",
       "      <td>97589</td>\n",
       "      <td>9.6</td>\n",
       "      <td>459</td>\n",
       "      <td>388</td>\n",
       "      <td>418</td>\n",
       "      <td>85</td>\n",
       "      <td>7817</td>\n",
       "      <td>9808</td>\n",
       "      <td>7483</td>\n",
       "      <td>2474832</td>\n",
       "      <td>0.524546</td>\n",
       "      <td>1</td>\n",
       "    </tr>\n",
       "    <tr>\n",
       "      <th>1</th>\n",
       "      <td>Arches National Park</td>\n",
       "      <td>336470</td>\n",
       "      <td>8069</td>\n",
       "      <td>436857</td>\n",
       "      <td>9.5</td>\n",
       "      <td>509</td>\n",
       "      <td>428</td>\n",
       "      <td>1119</td>\n",
       "      <td>116</td>\n",
       "      <td>9184</td>\n",
       "      <td>10235</td>\n",
       "      <td>8713</td>\n",
       "      <td>1126363</td>\n",
       "      <td>0.237798</td>\n",
       "      <td>0</td>\n",
       "    </tr>\n",
       "    <tr>\n",
       "      <th>2</th>\n",
       "      <td>Badlands National Park</td>\n",
       "      <td>108227</td>\n",
       "      <td>1384</td>\n",
       "      <td>225723</td>\n",
       "      <td>9.0</td>\n",
       "      <td>39</td>\n",
       "      <td>35</td>\n",
       "      <td>55</td>\n",
       "      <td>4</td>\n",
       "      <td>321</td>\n",
       "      <td>773</td>\n",
       "      <td>769</td>\n",
       "      <td>914431</td>\n",
       "      <td>0.192732</td>\n",
       "      <td>0</td>\n",
       "    </tr>\n",
       "    <tr>\n",
       "      <th>3</th>\n",
       "      <td>Big Bend National Park</td>\n",
       "      <td>39521</td>\n",
       "      <td>1684</td>\n",
       "      <td>80155</td>\n",
       "      <td>9.4</td>\n",
       "      <td>94</td>\n",
       "      <td>76</td>\n",
       "      <td>116</td>\n",
       "      <td>23</td>\n",
       "      <td>1168</td>\n",
       "      <td>1533</td>\n",
       "      <td>1062</td>\n",
       "      <td>351861</td>\n",
       "      <td>0.073103</td>\n",
       "      <td>0</td>\n",
       "    </tr>\n",
       "    <tr>\n",
       "      <th>4</th>\n",
       "      <td>Biscayne National Park</td>\n",
       "      <td>15825</td>\n",
       "      <td>1148</td>\n",
       "      <td>27903</td>\n",
       "      <td>8.7</td>\n",
       "      <td>91</td>\n",
       "      <td>66</td>\n",
       "      <td>142</td>\n",
       "      <td>18</td>\n",
       "      <td>1274</td>\n",
       "      <td>1703</td>\n",
       "      <td>1228</td>\n",
       "      <td>511602</td>\n",
       "      <td>0.107071</td>\n",
       "      <td>0</td>\n",
       "    </tr>\n",
       "  </tbody>\n",
       "</table>\n",
       "</div>"
      ],
      "text/plain": [
       "                     name  fb_fan_count  fb_talking_about_count  fb_checkins  \\\n",
       "0    Acadia National Park         11437                    1835        97589   \n",
       "1    Arches National Park        336470                    8069       436857   \n",
       "2  Badlands National Park        108227                    1384       225723   \n",
       "3  Big Bend National Park         39521                    1684        80155   \n",
       "4  Biscayne National Park         15825                    1148        27903   \n",
       "\n",
       "   fs_rating  fs_ratingCount  fs_likesCount  fs_photosCount  fs_tipsCount  \\\n",
       "0        9.6             459            388             418            85   \n",
       "1        9.5             509            428            1119           116   \n",
       "2        9.0              39             35              55             4   \n",
       "3        9.4              94             76             116            23   \n",
       "4        8.7              91             66             142            18   \n",
       "\n",
       "   fs_checkinsCount  fs_visitsCounts  fs_usersCounts  AverageVisitors  \\\n",
       "0              7817             9808            7483          2474832   \n",
       "1              9184            10235            8713          1126363   \n",
       "2               321              773             769           914431   \n",
       "3              1168             1533            1062           351861   \n",
       "4              1274             1703            1228           511602   \n",
       "\n",
       "   NormalizedAnnualVisCnt  Popular  \n",
       "0                0.524546        1  \n",
       "1                0.237798        0  \n",
       "2                0.192732        0  \n",
       "3                0.073103        0  \n",
       "4                0.107071        0  "
      ]
     },
     "execution_count": 6,
     "metadata": {},
     "output_type": "execute_result"
    }
   ],
   "source": [
    "pop_df.head()"
   ]
  },
  {
   "cell_type": "code",
   "execution_count": 68,
   "metadata": {
    "collapsed": false
   },
   "outputs": [
    {
     "name": "stdout",
     "output_type": "stream",
     "text": [
      "Accuracy is  89.8305084746\n"
     ]
    }
   ],
   "source": [
    "y = pop_df[\"Popular\"]\n",
    "X = pop_df[features]\n",
    "dt = DecisionTreeClassifier(min_samples_split=10, random_state=99, min_samples_leaf=5)\n",
    "dt.fit(X, y)\n",
    "\n",
    "#predict\n",
    "y_pred = dt.predict(X)\n",
    "y_pred\n",
    "print (\"Accuracy is \", accuracy_score(y,y_pred)*100)"
   ]
  },
  {
   "cell_type": "code",
   "execution_count": 69,
   "metadata": {
    "collapsed": false
   },
   "outputs": [
    {
     "name": "stdout",
     "output_type": "stream",
     "text": [
      "Accuracy is  89.8305084746\n"
     ]
    }
   ],
   "source": [
    "dt_gini = DecisionTreeClassifier(criterion = \"gini\", random_state = 99, min_samples_leaf=5)\n",
    "dt_gini.fit(X, y)\n",
    "\n",
    "#predict\n",
    "y_pred = dt_gini.predict(X)\n",
    "y_pred\n",
    "print (\"Accuracy is \", accuracy_score(y,y_pred)*100)"
   ]
  },
  {
   "cell_type": "code",
   "execution_count": 63,
   "metadata": {
    "collapsed": false
   },
   "outputs": [
    {
     "name": "stdout",
     "output_type": "stream",
     "text": [
      "Accuracy is  89.8305084746\n"
     ]
    }
   ],
   "source": [
    "dt_entropy = DecisionTreeClassifier(criterion = \"entropy\", random_state = 99, min_samples_leaf=5)\n",
    "dt_entropy.fit(X, y)\n",
    "\n",
    "y_pred_en = dt_entropy.predict(X)\n",
    "y_pred_en\n",
    "print (\"Accuracy is \", accuracy_score(y,y_pred_en)*100)"
   ]
  },
  {
   "cell_type": "code",
   "execution_count": 25,
   "metadata": {
    "collapsed": false
   },
   "outputs": [],
   "source": [
    "def visualize_tree(tree, feature_names):\n",
    "    \"\"\"Create tree png using graphviz.\n",
    "\n",
    "    Args\n",
    "    ----\n",
    "    tree -- scikit-learn DecsisionTree.\n",
    "    feature_names -- list of feature names.\n",
    "    \"\"\"\n",
    "    with open(\"dt.dot\", 'w') as f:\n",
    "        export_graphviz(tree, out_file=f,\n",
    "                        feature_names=feature_names)\n",
    "\n",
    "    command = [\"dot\", \"-Tpng\", \"dt.dot\", \"-o\", \"dt.png\"]\n",
    "    print (\"Success\")\n",
    "    try:\n",
    "        subprocess.check_call(command)\n",
    "    except:\n",
    "        exit(\"Could not run dot, ie graphviz, to \"\n",
    "             \"produce visualization\") "
   ]
  },
  {
   "cell_type": "code",
   "execution_count": 12,
   "metadata": {
    "collapsed": false
   },
   "outputs": [
    {
     "name": "stdout",
     "output_type": "stream",
     "text": [
      "Success\n"
     ]
    }
   ],
   "source": [
    "visualize_tree(dt, features)"
   ]
  }
 ],
 "metadata": {
  "kernelspec": {
   "display_name": "Python 2",
   "language": "python",
   "name": "python2"
  },
  "language_info": {
   "codemirror_mode": {
    "name": "ipython",
    "version": 2
   },
   "file_extension": ".py",
   "mimetype": "text/x-python",
   "name": "python",
   "nbconvert_exporter": "python",
   "pygments_lexer": "ipython2",
   "version": "2.7.13"
  }
 },
 "nbformat": 4,
 "nbformat_minor": 2
}
